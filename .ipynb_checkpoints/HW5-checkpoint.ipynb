{
 "cells": [
  {
   "cell_type": "markdown",
   "id": "c030191b",
   "metadata": {},
   "source": [
    "# Homework 5: Optimization"
   ]
  },
  {
   "cell_type": "code",
   "execution_count": 1,
   "id": "f31307de",
   "metadata": {},
   "outputs": [],
   "source": [
    "import numpy as np\n",
    "import pandas as pd\n",
    "import matplotlib.pyplot as plt\n",
    "import random\n",
    "import math\n",
    "from scipy.optimize import minimize"
   ]
  },
  {
   "cell_type": "markdown",
   "id": "8e982675",
   "metadata": {},
   "source": [
    "## Problem 1: Interval Bisection Search and Golden Section Search - 1-D Optimization"
   ]
  },
  {
   "cell_type": "markdown",
   "id": "e079362b",
   "metadata": {},
   "source": [
    "### Definition of function and its derivative"
   ]
  },
  {
   "cell_type": "code",
   "execution_count": 2,
   "id": "afc080a0",
   "metadata": {},
   "outputs": [],
   "source": [
    "# function of x**2\n",
    "def x2(x):\n",
    "    return x**2"
   ]
  },
  {
   "cell_type": "code",
   "execution_count": 3,
   "id": "19c6275e",
   "metadata": {},
   "outputs": [],
   "source": [
    "# Derivative of x**2\n",
    "def x2der(x):\n",
    "    return 2*x"
   ]
  },
  {
   "cell_type": "markdown",
   "id": "4e2964c3",
   "metadata": {},
   "source": [
    "### Definition of IBS and GSS method"
   ]
  },
  {
   "cell_type": "code",
   "execution_count": 4,
   "id": "da825fc5",
   "metadata": {},
   "outputs": [],
   "source": [
    "def IBS(derivative, u, l, tol=10**(-4), maxiter=50):\n",
    "    iteration = 0\n",
    "    # End condition\n",
    "    while (u - l > tol) and (iteration < maxiter):\n",
    "        value = derivative( ( u + l ) /2)\n",
    "        if value < 0:\n",
    "            l = value\n",
    "        else:\n",
    "            u = value\n",
    "            \n",
    "        iteration += 1\n",
    "    \n",
    "    return ((u + l) /2, iteration)\n",
    "        "
   ]
  },
  {
   "cell_type": "code",
   "execution_count": 5,
   "id": "677441a2",
   "metadata": {},
   "outputs": [],
   "source": [
    "def GSS(function, u, l, tol=10**(-4), maxiter=50):\n",
    "    golden = (1 + 5 ** 0.5) / 2 -1\n",
    "    iteration = 0\n",
    "    # End condition\n",
    "    while (u - l > tol) and (iteration < maxiter):\n",
    "        x1 = u - golden*(u - l)\n",
    "        x2 = l + golden*(u - l)\n",
    "        value1 = function(x1)\n",
    "        value2 = function(x2)\n",
    "        \n",
    "        if value1 < value2:\n",
    "            u = x2\n",
    "        else:\n",
    "            l = x1\n",
    "            \n",
    "        iteration += 1\n",
    "    \n",
    "    return ((u + l) /2, iteration)    "
   ]
  },
  {
   "cell_type": "markdown",
   "id": "f8667ea6",
   "metadata": {},
   "source": [
    "### 50 IBS and GSS iterations"
   ]
  },
  {
   "cell_type": "code",
   "execution_count": 6,
   "id": "7144674d",
   "metadata": {},
   "outputs": [],
   "source": [
    "ibs = []\n",
    "gss = []\n",
    "maxiterations = 1000\n",
    "for i in range(50):\n",
    "    lower = np.random.uniform(-10, 0)\n",
    "    upper = np.random.uniform(0, 10)\n",
    "    tolerance = np.random.uniform(10**(-8), 0)\n",
    "    ibs.append(IBS(x2der, upper, lower, tolerance, maxiter=maxiterations)[1])\n",
    "    gss.append(GSS(x2, upper, lower, tolerance, maxiter=maxiterations)[1])\n"
   ]
  },
  {
   "cell_type": "markdown",
   "id": "1c07b562",
   "metadata": {},
   "source": [
    "### IBS and GSS comparison"
   ]
  },
  {
   "cell_type": "code",
   "execution_count": 7,
   "id": "9c8f4d0a",
   "metadata": {},
   "outputs": [
    {
     "name": "stderr",
     "output_type": "stream",
     "text": [
      "No handles with labels found to put in legend.\n"
     ]
    },
    {
     "data": {
      "text/plain": [
       "<matplotlib.legend.Legend at 0x1e2915f6d00>"
      ]
     },
     "execution_count": 7,
     "metadata": {},
     "output_type": "execute_result"
    },
    {
     "data": {
      "image/png": "[encoded data removed]",
      "text/plain": [
       "<Figure size 432x288 with 1 Axes>"
      ]
     },
     "metadata": {
      "needs_background": "light"
     },
     "output_type": "display_data"
    }
   ],
   "source": [
    "plt.bar('IBS', height= np.log10(np.average(ibs)), color='blue')\n",
    "plt.bar('GSS', height= np.log10(np.average(gss)), color='red')\n",
    "plt.xlabel('Method')\n",
    "plt.ylabel('log10 Iterations')\n",
    "plt.legend()"
   ]
  },
  {
   "cell_type": "markdown",
   "id": "9b9dfc4c",
   "metadata": {},
   "source": [
    "#### We can clearly see that GSS is in faster than IBS for the experiment conducted"
   ]
  },
  {
   "cell_type": "markdown",
   "id": "aa0bfe90",
   "metadata": {},
   "source": [
    "## Problem 2: Convexity in 1- and 2-Dimensions"
   ]
  },
  {
   "cell_type": "markdown",
   "id": "4a6fc2f2",
   "metadata": {},
   "source": [
    "### 1. Using first and second derivatives confirm or reject that f is convex f(v)=(1−v)<sup>2</sup>\n",
    "#### f' = -2(1-v) we can see that f'(1)=0 which corresponds to the minimum of f.\n",
    "#### f'' = 2 We can see that f'' is always positive through its domain. This implies that f is convex.\n",
    "#### Let's have a visual approach."
   ]
  },
  {
   "cell_type": "code",
   "execution_count": 8,
   "id": "de6abeb1",
   "metadata": {},
   "outputs": [],
   "source": [
    "def f(x):\n",
    "    return (1-x)**2"
   ]
  },
  {
   "cell_type": "code",
   "execution_count": 9,
   "id": "0d53eaf3",
   "metadata": {},
   "outputs": [],
   "source": [
    "def f1(x):\n",
    "    return -2*(1-x)"
   ]
  },
  {
   "cell_type": "code",
   "execution_count": 10,
   "id": "3d0ecbb5",
   "metadata": {},
   "outputs": [],
   "source": [
    "def f2(x):\n",
    "    return 2"
   ]
  },
  {
   "cell_type": "code",
   "execution_count": 11,
   "id": "2ab2c942",
   "metadata": {},
   "outputs": [
    {
     "data": {
      "text/plain": [
       "<matplotlib.legend.Legend at 0x1e291d561f0>"
      ]
     },
     "execution_count": 11,
     "metadata": {},
     "output_type": "execute_result"
    },
    {
     "data": {
      "image/png": "[encoded data removed]",
      "text/plain": [
       "<Figure size 432x288 with 1 Axes>"
      ]
     },
     "metadata": {
      "needs_background": "light"
     },
     "output_type": "display_data"
    }
   ],
   "source": [
    "xs = []\n",
    "fs = []\n",
    "f1s = []\n",
    "f2s = []\n",
    "\n",
    "for i in range(1000):\n",
    "    x = np.random.uniform(-3, 5)\n",
    "    xs.append(x)\n",
    "    fs.append(f(x))\n",
    "    f1s.append(f1(x))\n",
    "    f2s.append(f2(x))\n",
    "\n",
    "plt.scatter(xs,fs, color='blue', label='f')\n",
    "plt.scatter(xs, f1s, color='red', label=\"f'\")\n",
    "plt.scatter(xs, f2s, color='magenta', label=\"f''\")\n",
    "plt.legend()"
   ]
  },
  {
   "cell_type": "markdown",
   "id": "6774149d",
   "metadata": {},
   "source": [
    "### 2. g(v) and h(v) are convex, is f(v) = g(v) + h(v) convex?\n",
    "#### Since g and h are convex, we have that g'' and h'' are > 0. This means that f'' = g'' + h'' is also > 0 and therefore convex."
   ]
  },
  {
   "cell_type": "markdown",
   "id": "c1d363e8",
   "metadata": {},
   "source": [
    "### 3. g(v)=(a−v<sup>2</sup>)<sup>2</sup> where a is a fixed real number.\n",
    "#### g' = -4v(a-v<sup>2</sup>)\n",
    "#### g'' = -4(a-3v<sup>2</sup>) \n",
    "#### We want g'' = 12v<sup>2</sup> - 4a  > 0 &#8594; v<sup>2</sup> > $\\frac{a}{3}$. This means that if  $a \\le 0$  g is convex in $\\Re$, else g is convex in the ranges $\\brack -\\infty,-\\sqrt{\\frac{a}{3}}$ $\\bigcup$ $\\brack \\sqrt{\\frac{a}{3}},\\infty $."
   ]
  },
  {
   "cell_type": "code",
   "execution_count": 12,
   "id": "33d26fa7",
   "metadata": {},
   "outputs": [],
   "source": [
    "def g2(x,a):\n",
    "    return -4*(a-3*x**2)"
   ]
  },
  {
   "cell_type": "code",
   "execution_count": 13,
   "id": "8f7083ff",
   "metadata": {},
   "outputs": [],
   "source": [
    "xs = []\n",
    "g2s = []\n",
    "\n",
    "for i in range(1000):\n",
    "    x = np.random.uniform(-3, 3)\n",
    "    xs.append(x)\n",
    "    g2s.append([g2(x,-3),g2(x,-2),g2(x,-1),g2(x,0),g2(x,1),g2(x,2),g2(x,3)])\n",
    "\n",
    "g2s = np.array(g2s)\n",
    "zeros = np.zeros(len(g2s))"
   ]
  },
  {
   "cell_type": "code",
   "execution_count": 14,
   "id": "13b6d556",
   "metadata": {},
   "outputs": [
    {
     "data": {
      "text/plain": [
       "<matplotlib.legend.Legend at 0x1e291e33bb0>"
      ]
     },
     "execution_count": 14,
     "metadata": {},
     "output_type": "execute_result"
    },
    {
     "data": {
      "image/png": "[encoded data removed]",
      "text/plain": [
       "<Figure size 432x288 with 1 Axes>"
      ]
     },
     "metadata": {
      "needs_background": "light"
     },
     "output_type": "display_data"
    }
   ],
   "source": [
    "plt.scatter(xs, g2s[:,0], s=0.5, color='blue', label='a=-3')\n",
    "plt.scatter(xs, g2s[:,1], s=0.5, color='red', label='a=-2')\n",
    "plt.scatter(xs, g2s[:,2], s=0.5, color='green', label='a=-1')\n",
    "plt.scatter(xs, g2s[:,3], s=0.5, color='pink', label='a=0')\n",
    "plt.scatter(xs, g2s[:,4], s=0.5, color='black', label='a=1')\n",
    "plt.scatter(xs, g2s[:,5], s=0.5, color='orange', label='a=2')\n",
    "plt.scatter(xs, g2s[:,6], s=0.5, color='yellow', label='a=3')\n",
    "plt.scatter(xs, zeros, s=0.5, color='magenta', label='0')\n",
    "\n",
    "plt.legend()"
   ]
  },
  {
   "cell_type": "markdown",
   "id": "353c0bbb",
   "metadata": {},
   "source": [
    "### 4. For a vector v=[v1 v2]$^T$, let $p(v)=(1−v_1)^2+100∗(v_2−v_1^2)^2$. Calculate the gradient and Hessian of p, and confirm or reject that p is convex everywhere in $\\Re^2$\n",
    "$\\nabla p = (2 (200 v_1^3 - 200 v_1 v_2 + v_1 - 1), 200 (y - x^2))$ \n",
    "\n",
    "H=$\\begin{bmatrix}(-400 (v_2 - v_1^2) + 800 v_1^2 + 2 & -400 v_1\\\\-400 v_1 & 200\\end{bmatrix}$\n",
    "\n",
    "$\\lambda_1 = 600 v_1^2 - \\sqrt{360000 v_1^4 - 240000 v_1^2 v_2 + 41200 v_1^2 + 40000 v_2^2 + 39600 v_2 + 9801} - 200 v_2 + 101$\n",
    "$\\lambda_2 = 600 v_1^2 + \\sqrt{360000 v_1^4 - 240000 v_1^2 v_2 + 41200 v_1^2 + 40000 v_2^2 + 39600 v_2 + 9801} - 200 v_2 + 101$\n",
    "\n",
    "It is clear that $\\lambda_1 \\le \\lambda_2 $ therefore, we need to find the conditions that fulfill $\\lambda_1>0$\n",
    "$600 v_1^2 - \\sqrt{360000 v_1^4 - 240000 v_1^2 v_2 + 41200 v_1^2 + 40000 v_2^2 + 39600 v_2 + 9801} - 200 v_2 + 101 > 0$\n",
    "\n",
    "#### Finally, p is convex when $v_2 < \\frac{1}{200} (200 v_1^2 + 1)$"
   ]
  },
  {
   "cell_type": "code",
   "execution_count": 15,
   "id": "50732edf",
   "metadata": {},
   "outputs": [],
   "source": [
    "def eigen1(x,y):\n",
    "    return 600*x**2 - math.sqrt(360000*x**4 - 240000*(x**2)*y + 41200*x**2 + 40000*y**2 + 39600*y + 9801) - 200*y + 101"
   ]
  },
  {
   "cell_type": "code",
   "execution_count": 16,
   "id": "5d80fb54",
   "metadata": {},
   "outputs": [],
   "source": [
    "def eigen2(x,y):\n",
    "    return 600*x**2 + math.sqrt(360000*x**4 - 240000*(x**2)*y + 41200*x**2 + 40000*y**2 + 39600*y + 9801) - 200*y + 101"
   ]
  },
  {
   "cell_type": "code",
   "execution_count": 17,
   "id": "135b4556",
   "metadata": {},
   "outputs": [
    {
     "name": "stdout",
     "output_type": "stream",
     "text": [
      "0.3993607674876216 1001.6006392325123\n"
     ]
    }
   ],
   "source": [
    "x = 1\n",
    "y = 1\n",
    "print(eigen1(x,y), eigen2(x,y))"
   ]
  },
  {
   "cell_type": "code",
   "execution_count": 18,
   "id": "6c51b5db",
   "metadata": {},
   "outputs": [],
   "source": [
    "x = []\n",
    "y = []\n",
    "min_eigen = []\n",
    "\n",
    "for i in range(-10,10):\n",
    "    for j in range (-10,100):\n",
    "        x.append(i)\n",
    "        y.append(j)\n",
    "        e1 = eigen1(i,j)\n",
    "        e2 = eigen2(i,j)\n",
    "        if e1 < e2:\n",
    "            min_eigen.append(e1)\n",
    "        else:\n",
    "            min_eigen.append(e2)\n",
    "\n",
    "pos_eigen = [0 if item<0 else 1 if item==0 else 2 for item in min_eigen]"
   ]
  },
  {
   "cell_type": "markdown",
   "id": "620a1f6f",
   "metadata": {},
   "source": [
    "#### The smallest eigenvalue, appears to be negative inside a parabole, therefore we can conclude that p is convex in the dark area corresponding to $v_2 < \\frac{1}{200} (200 v_1^2 + 1)$"
   ]
  },
  {
   "cell_type": "code",
   "execution_count": 19,
   "id": "04369bbf",
   "metadata": {},
   "outputs": [
    {
     "data": {
      "image/png": "[encoded data removed]",
      "text/plain": [
       "<Figure size 432x288 with 1 Axes>"
      ]
     },
     "metadata": {
      "needs_background": "light"
     },
     "output_type": "display_data"
    }
   ],
   "source": [
    "plt.scatter(x, y, c=pos_eigen, cmap='Paired')\n",
    "plt.xlabel('v_1')\n",
    "plt.ylabel('v_2')\n",
    "\n",
    "plt.show()"
   ]
  },
  {
   "cell_type": "markdown",
   "id": "85930209",
   "metadata": {},
   "source": [
    "## Problem 3: Nelder-Mead Search and Gradient Descent"
   ]
  },
  {
   "attachments": {},
   "cell_type": "markdown",
   "id": "c1e112c5",
   "metadata": {},
   "source": [
    "### 1. How Nelder-Mead Search works \n",
    "Explanation from https://www.youtube.com/watch?v=vOYlVvT3W80 and GIF from http://takashiida.floppy.jp/en/education-2/gif-nelder-mead/\n",
    "<img src=\"neldermead.gif\" alt=\"drawing\" width=\"400\">\n",
    "The Nelder-Mead method is a direct search method, meaning that it does not require the computation of the gradient. This makes it very useful for cases where either the gradient is hard to obtain/evaluate or if the function is not smooth. It is based on a n+1 dimension structure called a *simplex*, for example, if we are in $\\Re^2$, it will be a triangle (3 points) and in each iteration, this points are updated. Let's take **u**, **v** and **w** as our three points. \n",
    "\n",
    "In each iteration, there are 6 steps:\n",
    "<ol>\n",
    "<li><strong>Sort</strong>: Sort and label the points according to the function's value $f(u) < f(v) < f(w)$ <strong>u</strong> is the best point and <strong>w</strong> is the worst. <img src=\"sort.png\" alt=\"drawing\" width=\"200\"></li>\n",
    "<li><strong>Reflect</strong>: Reflect the worst point through the centroid of the two remaining points, point <strong>r</strong>. If $f(r) < f(v)$ but $f(u) < f(r)$, then <strong>w = r</strong>. Now <strong>v</strong> is the worst performing point. Go to step 6: Check for Convergence. <img src=\"reflect.png\" alt=\"drawing\" width=\"200\"></li>\n",
    "<li><strong>Extend</strong>: If $f(r) < f(u)$ then we extend <strong>r</strong> to <strong>e</strong>. If $f(e) < f(r)$ then <strong>w = e</strong> else <strong>w = r</strong>. Go to step 6: Check for Convergence. <img src=\"extend.png\" alt=\"drawing\" width=\"200\"></li>\n",
    "<li><strong>Contract</strong>: If $f(r) > f(v)$, <strong>w</strong> is contracted to <strong>c<sub>0</sub></strong> (outside) and <strong>c<sub>i</sub></strong> (inside) where $c_i = \\frac{1}{4}(w-r)$ and $c_o = \\frac{3}{4}(w-r)$ and evaluate $f(c_o)$ and $f(c_i)$. If either performs better than <strong>v</strong>, then <strong>w</strong> = best performing between <strong>c<sub>0</sub></strong> and <strong>c<sub>i</sub></strong>. Go to step 6: Check for Convergence. <img src=\"contract.png\" alt=\"drawing\" width=\"200\"></li>\n",
    "<li><strong>Shrink</strong>: If the contracted points do not outperform <strong>v</strong>, then we shrink the simplex towards the <strong>u</strong>, the best performing point with <strong>w = w'</strong> and <strong>v = v'</strong>, where <strong>v'</strong> is the halfway point between <strong>u</strong> and <strong>v</strong> and <strong>w'</strong> is the halfway point between <strong>u</strong> and <strong>w</strong>. Go to step 6: Check for Convergence. <img src=\"shrink.png\" alt=\"drawing\" width=\"200\"> </li>\n",
    "<li><strong>Check Convergence</strong>: There are many ways to check convergence, but a common one is to check whether the standard deviation between the points of the simplex is below some pre defined tolerance. </li>\n",
    "</ol>"
   ]
  },
  {
   "cell_type": "markdown",
   "id": "bd09f904",
   "metadata": {},
   "source": [
    "### 2. Nelder-Mead (NMA) and Conjugate Gradient Descent (CG)"
   ]
  },
  {
   "cell_type": "code",
   "execution_count": 31,
   "id": "40892777",
   "metadata": {},
   "outputs": [],
   "source": [
    "def objective_p(x):\n",
    "    return (1 - x[0])**2 + 100*(x[1] - x[0]**2)**2"
   ]
  },
  {
   "cell_type": "code",
   "execution_count": 85,
   "id": "d38760c9",
   "metadata": {},
   "outputs": [],
   "source": [
    "maxiterations = 5\n",
    "optimizer = [1,1]\n",
    "\n",
    "NMA_distance = []\n",
    "CG_distance = []\n",
    "\n",
    "for i in range(10):\n",
    "    p1 = [np.around([np.random.uniform(-3, 12)], decimals=1)[0], np.around([np.random.uniform(-6, 60)])[0]]\n",
    "    p2 = [np.around([np.random.uniform(-3, 12)], decimals=1)[0], np.around([np.random.uniform(-6, 60)])[0]]\n",
    "    p3 = [np.around([np.random.uniform(-3, 12)], decimals=1)[0], np.around([np.random.uniform(-6, 60)])[0]]\n",
    "    pt = [p1, p2, p3]\n",
    "    \n",
    "    NMA = minimize(objective_p, pt, method='nelder-mead', options={'maxiter':maxiterations})\n",
    "    CG = minimize(objective_p, pt, method='CG', options={'maxiter':maxiterations})\n",
    "    \n",
    "    # evaluate solutions\n",
    "    solution_NMA = NMA['x']\n",
    "    evaluation_NMA = objective_p(solution_NMA)\n",
    "    \n",
    "    # euclidean distance\n",
    "    NMA_distance.append((solution_NMA[0] - optimizer[0])**2 + (solution_NMA[1] - optimizer[1])**2)\n",
    "    \n",
    "    solution_CG = CG['x']\n",
    "    evaluation_CG = objective_p(solution_CG)\n",
    "    CG_distance.append((solution_CG[0] - optimizer[0])**2 + (solution_CG[1] - optimizer[1])**2)\n",
    "    "
   ]
  },
  {
   "cell_type": "code",
   "execution_count": null,
   "id": "abbf9dac",
   "metadata": {},
   "outputs": [],
   "source": []
  }
 ],
 "metadata": {
  "kernelspec": {
   "display_name": "Python 3",
   "language": "python",
   "name": "python3"
  },
  "language_info": {
   "codemirror_mode": {
    "name": "ipython",
    "version": 3
   },
   "file_extension": ".py",
   "mimetype": "text/x-python",
   "name": "python",
   "nbconvert_exporter": "python",
   "pygments_lexer": "ipython3",
   "version": "3.8.8"
  }
 },
 "nbformat": 4,
 "nbformat_minor": 5
}
